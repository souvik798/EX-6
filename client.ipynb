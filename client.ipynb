{
 "cells": [
  {
   "cell_type": "code",
   "execution_count": null,
   "metadata": {},
   "outputs": [],
   "source": [
    "import socket\n",
    "from pythonping import ping\n",
    "s=socket.socket()\n",
    "s.bind(('localhost',8000))\n",
    "s.listen(5)\n",
    "c,addr=s.accept()\n",
    "while True:\n",
    "    hostname=c.recv(1024).decode()\n",
    "    try:\n",
    "        c.send(str(ping(hostname, verbose=False)).encode())\n",
    "    except KeyError:\n",
    "        c.send(\"Not Found\".encode())"
   ]
  }
 ],
 "metadata": {
  "language_info": {
   "name": "python"
  },
  "orig_nbformat": 4
 },
 "nbformat": 4,
 "nbformat_minor": 2
}
