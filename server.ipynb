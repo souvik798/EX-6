{
 "cells": [
  {
   "cell_type": "code",
   "execution_count": null,
   "metadata": {},
   "outputs": [],
   "source": [
    "import socket\n",
    "s=socket.socket()\n",
    "s.connect(('localhost',8000))\n",
    "while True:\n",
    "    ip=input(\"Enter the website you want to ping \")\n",
    "    s.send(ip.encode())\n",
    "    print(s.recv(1024).decode())"
   ]
  }
 ],
 "metadata": {
  "language_info": {
   "name": "python"
  },
  "orig_nbformat": 4
 },
 "nbformat": 4,
 "nbformat_minor": 2
}
